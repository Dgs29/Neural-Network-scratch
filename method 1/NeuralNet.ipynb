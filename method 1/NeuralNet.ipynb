{
 "cells": [
  {
   "cell_type": "code",
   "execution_count": 1,
   "metadata": {},
   "outputs": [
    {
     "data": {
      "text/plain": [
       "(150, 4)"
      ]
     },
     "execution_count": 1,
     "metadata": {},
     "output_type": "execute_result"
    }
   ],
   "source": [
    "import numpy as np\n",
    "import pandas as pd\n",
    "from sklearn.datasets import load_iris\n",
    "import matplotlib.pyplot as plt\n",
    "\n",
    "dataset = load_iris()\n",
    "X = dataset.data\n",
    "y = dataset.target\n",
    "y = np.asarray(y)\n",
    "X.shape"
   ]
  },
  {
   "cell_type": "code",
   "execution_count": 2,
   "metadata": {},
   "outputs": [],
   "source": [
    "from sklearn.model_selection import train_test_split\n",
    "X_train,X_test,y_train,y_test = train_test_split(X,y,random_state = 0)"
   ]
  },
  {
   "cell_type": "code",
   "execution_count": 3,
   "metadata": {},
   "outputs": [],
   "source": [
    "#OneHotEncoding\n",
    "y_train = pd.get_dummies(y_train)\n",
    "y_train = np.array(y_train)\n",
    "\n",
    "y_test = pd.get_dummies(y_test)\n",
    "y_test = np.array(y_test)"
   ]
  },
  {
   "cell_type": "code",
   "execution_count": 4,
   "metadata": {},
   "outputs": [],
   "source": [
    "#Reshaping\n",
    "X_train = np.transpose(X_train)\n",
    "y_train = np.transpose(y_train)\n",
    "X_test = np.transpose(X_test)\n",
    "y_test = np.transpose(y_test)\n"
   ]
  },
  {
   "cell_type": "code",
   "execution_count": 5,
   "metadata": {},
   "outputs": [
    {
     "data": {
      "text/plain": [
       "(150, 4)"
      ]
     },
     "execution_count": 5,
     "metadata": {},
     "output_type": "execute_result"
    }
   ],
   "source": [
    "X.shape"
   ]
  },
  {
   "cell_type": "code",
   "execution_count": 6,
   "metadata": {},
   "outputs": [
    {
     "data": {
      "text/plain": [
       "(150,)"
      ]
     },
     "execution_count": 6,
     "metadata": {},
     "output_type": "execute_result"
    }
   ],
   "source": [
    "y.shape"
   ]
  },
  {
   "cell_type": "code",
   "execution_count": 7,
   "metadata": {},
   "outputs": [],
   "source": [
    "#Initializing weights\n",
    "def initialize_params(layer_dims):\n",
    "    parameters = {}\n",
    "    for l in range(1,len(layer_dims)):\n",
    "        parameters['W'+str(l)] = np.random.randn(layer_dims[l],layer_dims[l-1])\n",
    "        parameters['b'+str(l)] = np.random.randn(layer_dims[l],1)\n",
    "        \n",
    "    return parameters"
   ]
  },
  {
   "cell_type": "code",
   "execution_count": 8,
   "metadata": {},
   "outputs": [],
   "source": [
    "parameters = initialize_params([4,5,5,3])\n"
   ]
  },
  {
   "cell_type": "code",
   "execution_count": 9,
   "metadata": {},
   "outputs": [],
   "source": [
    "J = 0\n",
    "m_train = X_train.shape[1]\n",
    "assert (m_train == 112)\n",
    "alpha = 0.033\n",
    "q = []"
   ]
  },
  {
   "cell_type": "code",
   "execution_count": 10,
   "metadata": {},
   "outputs": [],
   "source": [
    "def softmax(x):\n",
    "    return np.exp(x)/sum(np.exp(x))"
   ]
  },
  {
   "cell_type": "code",
   "execution_count": 11,
   "metadata": {},
   "outputs": [
    {
     "name": "stdout",
     "output_type": "stream",
     "text": [
      "Iteration 0 : 2.1574500935022827\n",
      "Iteration 1 : 2.0771969702213355\n",
      "Iteration 2 : 1.9961951230043944\n",
      "Iteration 3 : 1.911500092978\n",
      "Iteration 4 : 1.8153571811698594\n",
      "Iteration 5 : 1.703131479765118\n",
      "Iteration 6 : 1.598481428124402\n",
      "Iteration 7 : 1.5314837083726656\n",
      "Iteration 8 : 1.4818041364431824\n",
      "Iteration 9 : 1.4337894060279135\n",
      "Iteration 10 : 1.3831064420569819\n",
      "Iteration 11 : 1.3278667481095028\n",
      "Iteration 12 : 1.2699467938659186\n",
      "Iteration 13 : 1.2138546700317583\n",
      "Iteration 14 : 1.1619080268084492\n",
      "Iteration 15 : 1.1140604900483893\n",
      "Iteration 16 : 1.069575063053838\n",
      "Iteration 17 : 1.027727169369732\n",
      "Iteration 18 : 0.9880488006597576\n",
      "Iteration 19 : 0.9502605287156638\n",
      "Iteration 20 : 0.914186872680649\n",
      "Iteration 21 : 0.8797596141460704\n",
      "Iteration 22 : 0.8470384612382021\n",
      "Iteration 23 : 0.8162077722407881\n",
      "Iteration 24 : 0.7875436709908108\n",
      "Iteration 25 : 0.7613534374579156\n",
      "Iteration 26 : 0.7378961410632406\n",
      "Iteration 27 : 0.7173054468511646\n",
      "Iteration 28 : 0.6995420767557733\n",
      "Iteration 29 : 0.6843940138153658\n",
      "Iteration 30 : 0.6715199400831774\n",
      "Iteration 31 : 0.6605120302777977\n",
      "Iteration 32 : 0.6509517301851836\n",
      "Iteration 33 : 0.6424441888654712\n",
      "Iteration 34 : 0.6346313425938611\n",
      "Iteration 35 : 0.6271919230643775\n",
      "Iteration 36 : 0.619838916107392\n",
      "Iteration 37 : 0.6123248569876094\n",
      "Iteration 38 : 0.6044642143853888\n",
      "Iteration 39 : 0.5961757637753723\n",
      "Iteration 40 : 0.5875278967636554\n",
      "Iteration 41 : 0.5787402587569602\n",
      "Iteration 42 : 0.5700994469277715\n",
      "Iteration 43 : 0.5618276496385728\n",
      "Iteration 44 : 0.5540143587059767\n",
      "Iteration 45 : 0.5466497680294217\n",
      "Iteration 46 : 0.5396883151629881\n",
      "Iteration 47 : 0.5330834061699439\n",
      "Iteration 48 : 0.5267957361954838\n",
      "Iteration 49 : 0.5207928524800901\n",
      "Iteration 50 : 0.5150476359592799\n",
      "Iteration 51 : 0.5095370869850918\n",
      "Iteration 52 : 0.5042414337208757\n",
      "Iteration 53 : 0.4991434804257469\n",
      "Iteration 54 : 0.49422812970028823\n",
      "Iteration 55 : 0.48948202654563616\n",
      "Iteration 56 : 0.4848932855839776\n",
      "Iteration 57 : 0.48045127514869695\n",
      "Iteration 58 : 0.47614644141182016\n",
      "Iteration 59 : 0.47197016205957565\n"
     ]
    }
   ],
   "source": [
    "#Full Connection ----- TRAINING SET\n",
    "#Forward Propagation\n",
    "parameters['A0'] = X_train\n",
    "for s in range(60):\n",
    "    for i in range(1,3):\n",
    "        parameters['Z'+str(i)] = np.dot(parameters['W'+str(i)],parameters['A'+str(i-1)]) + parameters['b'+str(i)]\n",
    "        parameters['A'+str(i)] = np.tanh(parameters['Z'+str(i)])\n",
    "\n",
    "    parameters['Z'+str(3)] = np.dot(parameters['W'+str(3)],parameters['A'+str(2)]) + parameters['b'+str(3)]\n",
    "    parameters['A'+str(3)] = softmax(parameters['Z3'])\n",
    "    #Calculating cost function\n",
    "    J = -(1/m_train) * sum(sum(y_train * np.log(parameters['A'+str(3)])))\n",
    "    q.append(J)\n",
    "    \n",
    "    print('Iteration '+str(s)+' : '+str(J))\n",
    "\n",
    "    #Back Propagation\n",
    "    parameters['dZ'+str(3)] = parameters['A'+str(3)] - y_train\n",
    "    parameters['dW'+str(3)] = (1/m_train)*np.dot(parameters['dZ'+str(3)],parameters['A'+str(2)].T)\n",
    "    parameters['db'+str(3)] = (1/m_train)*np.sum(parameters['dZ'+str(3)], axis = 1, keepdims = True)\n",
    "    parameters['dA'+str(2)] = np.dot(parameters['W'+str(3)].T,parameters['dZ'+str(3)])\n",
    "\n",
    "    for j in [2,1]:\n",
    "        parameters['dZ'+str(j)] = parameters['dA'+str(j)] * (1-np.power(parameters['A'+str(j)],2))\n",
    "        parameters['dW'+str(j)] = (1/m_train)*np.dot(parameters['dZ'+str(j)],parameters['A'+str(j-1)].T)\n",
    "        parameters['db'+str(j)] = (1/m_train)*np.sum(parameters['dZ'+str(j)],axis = 1, keepdims = True)\n",
    "        parameters['dA'+str(j-1)] = np.dot(parameters['W'+str(j)].T,parameters['dZ'+str(j)])\n",
    "\n",
    "    for k in range(1,4):\n",
    "        parameters['W'+str(k)] = parameters['W'+str(k)] - alpha * parameters['dW'+str(k)]\n",
    "        parameters['b'+str(k)] = parameters['b'+str(k)] - alpha * parameters['db'+str(k)]\n",
    "\n"
   ]
  },
  {
   "cell_type": "code",
   "execution_count": 12,
   "metadata": {},
   "outputs": [],
   "source": [
    "q = np.asarray(q)"
   ]
  },
  {
   "cell_type": "code",
   "execution_count": 13,
   "metadata": {
    "scrolled": true
   },
   "outputs": [
    {
     "data": {
      "image/png": "[encoded data removed]",
      "text/plain": [
       "<Figure size 432x288 with 1 Axes>"
      ]
     },
     "metadata": {},
     "output_type": "display_data"
    },
    {
     "data": {
      "text/plain": [
       "<Figure size 432x288 with 0 Axes>"
      ]
     },
     "metadata": {},
     "output_type": "display_data"
    }
   ],
   "source": [
    "plt.plot(np.arange(60),q)\n",
    "plt.title('Cost Function')\n",
    "plt.xlabel(\"No. of iterations\")\n",
    "plt.ylabel('Cost Function (J)')\n",
    "plt.figure()\n",
    "plt.show()"
   ]
  },
  {
   "cell_type": "code",
   "execution_count": 14,
   "metadata": {},
   "outputs": [
    {
     "data": {
      "text/plain": [
       "(112, 3)"
      ]
     },
     "execution_count": 14,
     "metadata": {},
     "output_type": "execute_result"
    }
   ],
   "source": [
    "y_train_t = np.transpose(y_train)\n",
    "y_train_t.shape"
   ]
  },
  {
   "cell_type": "code",
   "execution_count": 15,
   "metadata": {},
   "outputs": [
    {
     "data": {
      "text/plain": [
       "38"
      ]
     },
     "execution_count": 15,
     "metadata": {},
     "output_type": "execute_result"
    }
   ],
   "source": [
    "J_test = 0\n",
    "m_test = X_test.shape[1]\n",
    "m_test"
   ]
  },
  {
   "cell_type": "code",
   "execution_count": 16,
   "metadata": {},
   "outputs": [],
   "source": [
    "# TEST SET\n",
    "parameters['A_new'+str(0)] = X_test\n",
    "for i in range(1,3):\n",
    "    parameters['Z_new'+str(i)] = np.dot(parameters['W'+str(i)],parameters['A_new'+str(i-1)]) + parameters['b'+str(i)]\n",
    "    parameters['A_new'+str(i)] = np.tanh(parameters['Z_new'+str(i)])\n",
    "\n",
    "parameters['Z_new'+str(3)] = np.dot(parameters['W'+str(3)],parameters['A_new'+str(2)]) + parameters['b'+str(3)]\n",
    "parameters['A_new'+str(3)] = softmax(parameters['Z_new'+str(3)])\n",
    "J_test = -(1/m_test) * sum(sum(y_test * np.log(parameters['A_new'+str(3)])))\n"
   ]
  },
  {
   "cell_type": "code",
   "execution_count": 17,
   "metadata": {},
   "outputs": [
    {
     "data": {
      "text/plain": [
       "(38, 3)"
      ]
     },
     "execution_count": 17,
     "metadata": {},
     "output_type": "execute_result"
    }
   ],
   "source": [
    "y_test_t = np.transpose(y_test)\n",
    "y_test_t.shape"
   ]
  },
  {
   "cell_type": "code",
   "execution_count": 18,
   "metadata": {},
   "outputs": [
    {
     "data": {
      "text/plain": [
       "(38, 3)"
      ]
     },
     "execution_count": 18,
     "metadata": {},
     "output_type": "execute_result"
    }
   ],
   "source": [
    "y_pred = parameters['A_new'+str(3)]\n",
    "y_pred = np.transpose(y_pred)\n",
    "y_pred.shape"
   ]
  },
  {
   "cell_type": "code",
   "execution_count": 19,
   "metadata": {},
   "outputs": [],
   "source": [
    "y_pred = (y_pred == y_pred.max(axis=1)[:,None]).astype(int)"
   ]
  },
  {
   "cell_type": "code",
   "execution_count": 20,
   "metadata": {},
   "outputs": [
    {
     "name": "stdout",
     "output_type": "stream",
     "text": [
      "Accuracy : 0.9210526315789473\n",
      "f1 score(Micro) : 0.9210526315789473\n",
      "f1 score(Macro) : 0.9178981937602627\n"
     ]
    }
   ],
   "source": [
    "from sklearn.metrics import accuracy_score,f1_score\n",
    "print('Accuracy : {}'.format(accuracy_score(y_test_t,y_pred)))\n",
    "print('f1 score(Micro) : {}'.format(f1_score(y_test_t,y_pred,average = 'micro')))\n",
    "print('f1 score(Macro) : {}'.format(f1_score(y_test_t,y_pred,average='macro')))"
   ]
  }
 ],
 "metadata": {
  "kernelspec": {
   "display_name": "Python 3",
   "language": "python",
   "name": "python3"
  },
  "language_info": {
   "codemirror_mode": {
    "name": "ipython",
    "version": 3
   },
   "file_extension": ".py",
   "mimetype": "text/x-python",
   "name": "python",
   "nbconvert_exporter": "python",
   "pygments_lexer": "ipython3",
   "version": "3.6.5"
  }
 },
 "nbformat": 4,
 "nbformat_minor": 2
}
